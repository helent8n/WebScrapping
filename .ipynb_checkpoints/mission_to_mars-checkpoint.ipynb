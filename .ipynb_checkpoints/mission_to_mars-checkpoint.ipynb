{
 "cells": [
  {
   "cell_type": "code",
   "execution_count": null,
   "metadata": {},
   "outputs": [],
   "source": [
    "from bs4 import BeautifulSoup as bs\n",
    "from splinter import Browser\n",
    "import requests\n",
    "import pandas as pd\n",
    "import time\n",
    "import os"
   ]
  },
  {
   "cell_type": "code",
   "execution_count": null,
   "metadata": {},
   "outputs": [],
   "source": [
    "# Choose the executable path to driver \n",
    "executable_path = {\"executable_path\": \"C:\\\\Users\\\\jarrett\\\\Downloads\\\\chromedriver_win32 (1)\\\\chromedriver.exe\"}\n",
    "browser = Browser(\"chrome\", **executable_path, headless=False)"
   ]
  },
  {
   "cell_type": "markdown",
   "metadata": {},
   "source": [
    "# NASA Mars News"
   ]
  },
  {
   "cell_type": "code",
   "execution_count": null,
   "metadata": {},
   "outputs": [],
   "source": [
    "# Visit Nasa news url through splinter module\n",
    "nasa_mars_news_url = 'https://mars.nasa.gov/news/'\n",
    "browser.visit(nasa_mars_news_url)\n",
    "\n",
    "time.sleep(1)\n",
    "\n",
    "# HTML object\n",
    "nasa_html = browser.html\n",
    "\n",
    "# Parse HTML with BeautifulSoup\n",
    "nasa_soup = bs(nasa_html, \"html.parser\")\n",
    "\n",
    "#Display the result to figure out what you want to scrape\n",
    "print(nasa_soup.prettify())"
   ]
  },
  {
   "cell_type": "code",
   "execution_count": null,
   "metadata": {},
   "outputs": [],
   "source": [
    "### code to get all nasa news ###\n",
    "news_lists = nasa_soup.find_all('li', class_='slide')\n",
    "\n",
    "titles_list = []\n",
    "paragraphs_list = []\n",
    "\n",
    "# iterate all the news list\n",
    "for news_list in news_lists:\n",
    "\n",
    "        title = news_list.find('h3').text\n",
    "        \n",
    "        paragraph = news_list.find('div', class_='article_teaser_body').text\n",
    "        \n",
    "        #Append both to a list\n",
    "        titles_list.append(title)\n",
    "        paragraphs_list.append(paragraph)\n",
    "\n",
    "        #Print all news title and paragraph text\n",
    "        print(f\"News title : {title}\")\n",
    "        print(f\"Paragraph text : {paragraph}\\n\")  \n"
   ]
  },
  {
   "cell_type": "code",
   "execution_count": null,
   "metadata": {},
   "outputs": [],
   "source": [
    "#Get the first title and paragraph\n",
    "news_title = titles_list[0]\n",
    "news_p = paragraphs_list[0]\n",
    "print(f\"Latest news title : {news_title}\")\n",
    "print(f\"and Paragraph text : {news_p}\\n\")  "
   ]
  },
  {
   "cell_type": "markdown",
   "metadata": {
    "scrolled": false
   },
   "source": [
    "# JPL Mars Space Images - Featured Image"
   ]
  },
  {
   "cell_type": "code",
   "execution_count": null,
   "metadata": {},
   "outputs": [],
   "source": [
    "executable_path = {\"executable_path\": \"C:\\\\Users\\\\jarrett\\\\Downloads\\\\chromedriver_win32 (1)\\\\chromedriver.exe\"}\n",
    "browser = Browser(\"chrome\", **executable_path, headless=False)\n",
    "\n",
    "mars_image_url = 'https://www.jpl.nasa.gov/spaceimages/?search=&category=Mars'\n",
    "browser.visit(mars_image_url)\n",
    "\n",
    "time.sleep(5)\n",
    "\n",
    "browser.find_by_css('a.button').click()\n",
    "\n",
    "time.sleep(5)\n",
    "\n",
    "soup = bs(browser.html,'html.parser')\n",
    "\n",
    "end = soup.find('img',class_='fancybox-image')['src']\n",
    "feature_image_url = \"https://www.jpl.nasa.gov\"+end\n",
    "print(f\"Feature image : {feature_image_url}\")\n"
   ]
  },
  {
   "cell_type": "markdown",
   "metadata": {},
   "source": [
    "# Mars Weather"
   ]
  },
  {
   "cell_type": "code",
   "execution_count": null,
   "metadata": {},
   "outputs": [],
   "source": [
    "executable_path = {\"executable_path\": \"C:\\\\Users\\\\jarrett\\\\Downloads\\\\chromedriver_win32 (1)\\\\chromedriver.exe\"}\n",
    "browser = Browser(\"chrome\", **executable_path, headless=False)\n",
    "\n",
    "# Visit Mars Weather Twitter through splinter module\n",
    "weather_url = 'https://twitter.com/marswxreport?lang=en'\n",
    "browser.visit(weather_url)"
   ]
  },
  {
   "cell_type": "code",
   "execution_count": null,
   "metadata": {},
   "outputs": [],
   "source": [
    "# HTML Object \n",
    "html_weather = browser.html\n",
    "\n",
    "# Parse HTML with Beautiful Soup\n",
    "soup = bs(html_weather, 'html.parser')\n",
    "\n",
    "# Find all elements that contain tweets\n",
    "latest_tweets = soup.find_all('div', class_='js-tweet-text-container')\n",
    "\n",
    "weather_tweet_list = []\n",
    "\n",
    "for tweet in latest_tweets: \n",
    "    weather_tweet = tweet.find('p').text\n",
    "    \n",
    "    weather_tweet_list.append(weather_tweet)\n",
    "    \n",
    "#Get the first weather tweet\n",
    "mars_weather = weather_tweet_list[0]\n",
    "\n",
    "print(f\"Latest Mars weather : {mars_weather}\")      "
   ]
  },
  {
   "cell_type": "markdown",
   "metadata": {},
   "source": [
    "# Mars Facts"
   ]
  },
  {
   "cell_type": "code",
   "execution_count": null,
   "metadata": {
    "scrolled": true
   },
   "outputs": [],
   "source": [
    "facts_url = 'https://space-facts.com/mars/'\n",
    "\n",
    "# use Panda's `read_html` to parse the url\n",
    "mars_facts = pd.read_html(facts_url)\n",
    "\n",
    "# find the mars facts DataFrame in the list of DataFrames as assign it to `mars_df`\n",
    "mars_df = mars_facts[0]\n",
    "\n",
    "# assign the columns `['Description', 'Value']`\n",
    "mars_df.columns = ['Description','Value']\n",
    "\n",
    "# get rid of trailing colon\n",
    "mars_df['Description'] = mars_df['Description'].str[:-1]\n",
    "\n",
    "# set the index to the `Description` column without row indexing\n",
    "mars_df = mars_df.set_index('Description')\n",
    "\n",
    "facts_html_table = mars_df.to_html()\n",
    "acts_html_table = facts_html_table.replace('\\n', '')\n",
    "\n",
    "# display data frame\n",
    "mars_df"
   ]
  },
  {
   "cell_type": "code",
   "execution_count": null,
   "metadata": {},
   "outputs": [],
   "source": [
    "# Save html code to file 'facts.html'\n",
    "mars_df.to_html(open('facts.html', 'w'))"
   ]
  },
  {
   "cell_type": "markdown",
   "metadata": {},
   "source": [
    "# Mars Hemispheres"
   ]
  },
  {
   "cell_type": "code",
   "execution_count": null,
   "metadata": {},
   "outputs": [],
   "source": [
    "executable_path = {\"executable_path\": \"C:\\\\Users\\\\jarrett\\\\Downloads\\\\chromedriver_win32 (1)\\\\chromedriver.exe\"}\n",
    "browser = Browser(\"chrome\", **executable_path, headless=False)\n",
    "\n",
    "# Visit hemispheres website through splinter module \n",
    "hemispheres_url = 'https://astrogeology.usgs.gov/search/results?q=hemisphere+enhanced&k1=target&v1=Mars'\n",
    "browser.visit(hemispheres_url)\n",
    "\n",
    "time.sleep(5)\n",
    "\n",
    "# HTML Object\n",
    "html_hemispheres = browser.html\n",
    "\n",
    "# Parse HTML with Beautiful Soup\n",
    "soup = bs(html_hemispheres, 'html.parser')\n",
    "\n",
    "# Retreive all items that contain mars hemispheres information\n",
    "items = soup.find_all('div', class_='item')\n",
    "\n",
    "# Create empty list for hemisphere urls \n",
    "hemisphere_image_urls = []\n",
    "\n",
    "# Store the main_ul \n",
    "hemispheres_main_url = 'https://astrogeology.usgs.gov'\n",
    "\n",
    "# Loop through the items previously stored\n",
    "for i in items: \n",
    "    img_dict = {}\n",
    "    # Store title\n",
    "    title = i.find('h3').text\n",
    "    \n",
    "    # Store link that leads to full image website\n",
    "    partial_img_url = i.find('a', class_='itemLink product-item')['href']\n",
    "    \n",
    "    # Visit the link that contains the full image website \n",
    "    browser.visit(hemispheres_main_url + partial_img_url)\n",
    "    \n",
    "    # HTML Object of individual hemisphere information website \n",
    "    partial_img_html = browser.html\n",
    "    \n",
    "    # Parse HTML with Beautiful Soup for every individual hemisphere information website \n",
    "    soup = bs( partial_img_html, 'html.parser')\n",
    "    \n",
    "    # Retrieve full image source \n",
    "    img_url = hemispheres_main_url + soup.find('img', class_='wide-image')['src']\n",
    "    \n",
    "    img_dict[\"title\"] = title\n",
    "    img_dict[\"img_url\"] = img_url\n",
    "    print(img_dict[\"img_url\"])\n",
    "    # Append the retreived information into a list of dictionaries \n",
    "    #hemisphere_image_urls.append({\"title\" : title, \"img_url\" : img_url})\n",
    "    hemisphere_image_urls.append(img_dict)\n",
    "    \n"
   ]
  },
  {
   "cell_type": "code",
   "execution_count": null,
   "metadata": {},
   "outputs": [],
   "source": [
    "# Display hemisphere_image_urls\n",
    "hemisphere_image_urls"
   ]
  },
  {
   "cell_type": "code",
   "execution_count": null,
   "metadata": {},
   "outputs": [],
   "source": []
  }
 ],
 "metadata": {
  "kernelspec": {
   "display_name": "Python (PythonData)",
   "language": "python",
   "name": "pythondata"
  },
  "language_info": {
   "codemirror_mode": {
    "name": "ipython",
    "version": 3
   },
   "file_extension": ".py",
   "mimetype": "text/x-python",
   "name": "python",
   "nbconvert_exporter": "python",
   "pygments_lexer": "ipython3",
   "version": "3.7.0"
  }
 },
 "nbformat": 4,
 "nbformat_minor": 2
}
